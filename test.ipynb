{
  "nbformat": 4,
  "nbformat_minor": 0,
  "metadata": {
    "kernelspec": {
      "name": "python3",
      "display_name": "Python 3"
    },
    "colab": {
      "name": "test.ipynb",
      "provenance": [],
      "collapsed_sections": []
    },
    "language_info": {
      "name": "python"
    },
    "accelerator": "GPU"
  },
  "cells": [
    {
      "cell_type": "code",
      "metadata": {
        "collapsed": true,
        "id": "Dxjyiic51__1"
      },
      "source": [
        "import h5py\n",
        "import scipy.io as io\n",
        "import PIL.Image as Image\n",
        "import numpy as np\n",
        "import os\n",
        "import glob\n",
        "from matplotlib import pyplot as plt\n",
        "from scipy.ndimage.filters import gaussian_filter \n",
        "import scipy\n",
        "import json\n",
        "import torchvision.transforms.functional as F\n",
        "from matplotlib import cm as CM\n",
        "from image import *\n",
        "from model import CSRNet\n",
        "import torch\n",
        "%matplotlib inline"
      ],
      "execution_count": null,
      "outputs": []
    },
    {
      "cell_type": "code",
      "metadata": {
        "collapsed": true,
        "id": "ZPsvF5r71__2"
      },
      "source": [
        "from torchvision import datasets, transforms\n",
        "transform=transforms.Compose([\n",
        "                       transforms.ToTensor(),transforms.Normalize(mean=[0.485, 0.456, 0.406],\n",
        "                                     std=[0.229, 0.224, 0.225]),\n",
        "                   ])"
      ],
      "execution_count": null,
      "outputs": []
    },
    {
      "cell_type": "code",
      "metadata": {
        "collapsed": true,
        "id": "z7hlLY1E1__2"
      },
      "source": [
        "root = 'CVHajjDataSet/'"
      ],
      "execution_count": null,
      "outputs": []
    },
    {
      "cell_type": "code",
      "metadata": {
        "collapsed": true,
        "id": "7bR59ewD1__2"
      },
      "source": [
        "Aljoharah_st_test = os.path.join(root,'Aljoharah_st/test','images')\n",
        "Jamarat_exit_test = os.path.join(root,'Jamarat_exit/test','images')\n",
        "Jamarat_exit_with_kheif_test = os.path.join(root,'Jamarat_exit_with_kheif/test','images')\n",
        "Tawaf_tabaeud_test = os.path.join(root,'Tawaf_tabaeud/test','images')\n",
        "\n",
        "path_sets = [Aljoharah_st_test, Jamarat_exit_test, Jamarat_exit_with_kheif_test, Tawaf_tabaeud_test]"
      ],
      "execution_count": null,
      "outputs": []
    },
    {
      "cell_type": "code",
      "metadata": {
        "collapsed": true,
        "id": "eJoVQpJg1__2"
      },
      "source": [
        "img_paths = []\n",
        "for path in path_sets:\n",
        "    for img_path in glob.glob(os.path.join(path, '*.jpg')):\n",
        "        img_paths.append(img_path)"
      ],
      "execution_count": null,
      "outputs": []
    },
    {
      "cell_type": "code",
      "metadata": {
        "collapsed": true,
        "id": "z6WSo0Xr1__3"
      },
      "source": [
        "model = CSRNet()"
      ],
      "execution_count": null,
      "outputs": []
    },
    {
      "cell_type": "code",
      "metadata": {
        "collapsed": true,
        "id": "849pMmt21__3"
      },
      "source": [
        "model = model.cuda()"
      ],
      "execution_count": null,
      "outputs": []
    },
    {
      "cell_type": "code",
      "metadata": {
        "collapsed": true,
        "id": "7Ydwk5ef1__3"
      },
      "source": [
        "checkpoint = torch.load('0_model_best.pth.tar')"
      ],
      "execution_count": null,
      "outputs": []
    },
    {
      "cell_type": "code",
      "metadata": {
        "collapsed": true,
        "colab": {
          "base_uri": "https://localhost:8080/"
        },
        "id": "cz-s9VmL1__3",
        "outputId": "31ae3be3-2e63-4a7c-b349-195ce934e6d6"
      },
      "source": [
        "model.load_state_dict(checkpoint['state_dict'])"
      ],
      "execution_count": null,
      "outputs": [
        {
          "output_type": "execute_result",
          "data": {
            "text/plain": [
              "<All keys matched successfully>"
            ]
          },
          "metadata": {
            "tags": []
          },
          "execution_count": 10
        }
      ]
    },
    {
      "cell_type": "code",
      "metadata": {
        "scrolled": true,
        "id": "ak9jEblw1__3"
      },
      "source": [
        "mae = 0\n",
        "min = 0\n",
        "for i in range(len(img_paths)):\n",
        "    img = 255.0 * F.to_tensor(Image.open(img_paths[i]).convert('RGB'))\n",
        "\n",
        "    img[0,:,:]=img[0,:,:]-92.8207477031\n",
        "    img[1,:,:]=img[1,:,:]-95.2757037428\n",
        "    img[2,:,:]=img[2,:,:]-104.877445883\n",
        "    img = img.cuda()\n",
        "    img = transform(Image.open(img_paths[i]).convert('RGB')).cuda()\n",
        "    gt_file = h5py.File(img_paths[i].replace('.jpg','.h5').replace('images','ground_truth'),'r')\n",
        "    groundtruth = np.asarray(gt_file['density'])\n",
        "    \n",
        "    output = model(img.unsqueeze(0))\n",
        "    mae += abs(output.detach().cpu().sum().numpy()-np.sum(groundtruth))\n",
        "    print(i,mae)\n",
        "print(mae/len(img_paths))"
      ],
      "execution_count": null,
      "outputs": []
    }
  ]
}