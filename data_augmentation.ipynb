{
  "nbformat": 4,
  "nbformat_minor": 0,
  "metadata": {
    "colab": {
      "name": "data_augmentation.ipynb",
      "provenance": [],
      "collapsed_sections": [
        "34-UYKyGJfYv"
      ]
    },
    "kernelspec": {
      "display_name": "Python 3",
      "name": "python3"
    },
    "language_info": {
      "name": "python"
    }
  },
  "cells": [
    {
      "cell_type": "markdown",
      "metadata": {
        "id": "34-UYKyGJfYv"
      },
      "source": [
        "#1. Install packages"
      ]
    },
    {
      "cell_type": "code",
      "metadata": {
        "id": "6fcbtQBkTezF",
        "colab": {
          "base_uri": "https://localhost:8080/"
        },
        "outputId": "ab8163fb-ab72-4ed0-f6be-3e2cae3dabe8"
      },
      "source": [
        "!pip install mat4py"
      ],
      "execution_count": 10,
      "outputs": [
        {
          "output_type": "stream",
          "text": [
            "Collecting mat4py\n",
            "  Downloading mat4py-0.5.0-py2.py3-none-any.whl (13 kB)\n",
            "Installing collected packages: mat4py\n",
            "Successfully installed mat4py-0.5.0\n"
          ],
          "name": "stdout"
        }
      ]
    },
    {
      "cell_type": "markdown",
      "metadata": {
        "id": "odvMqsNtLX1I"
      },
      "source": [
        "#2.Import libraries"
      ]
    },
    {
      "cell_type": "code",
      "metadata": {
        "id": "WWAsp0U9JV9E"
      },
      "source": [
        "import cv2\n",
        "import numpy as np\n",
        "import matplotlib.pyplot as plt\n",
        "import pandas as pd \n",
        "import os\n",
        "import random\n",
        "import mat4py \n",
        "import scipy.io\n"
      ],
      "execution_count": 11,
      "outputs": []
    },
    {
      "cell_type": "markdown",
      "metadata": {
        "id": "Q_HdXTVzLcfJ"
      },
      "source": [
        "#3.Function to crop image and its mat file"
      ]
    },
    {
      "cell_type": "code",
      "metadata": {
        "id": "JuNC6wcmJfhl"
      },
      "source": [
        "def crop_img(root, img_file, mat_file, n):\n",
        "\n",
        "  # load mat file \n",
        "  mat = mat4py.loadmat(root+'ground_truth/'+mat_file)\n",
        "\n",
        "  \n",
        "  # read the image \n",
        "  img = cv2.imread(root+'images/'+img_file)\n",
        "\n",
        "  # width and height of the image\n",
        "  height, width, channels = img.shape\n",
        "  \n",
        "  # 'origin' is the top left point in the image, and 'end' bottom right point in the image\n",
        "  x2 = random.randint(int(width/4), width)\n",
        "  y2 = random.randint(int(height/4), height)\n",
        "\n",
        "  x1 = int(x2 - int(width/4))\n",
        "  y1 = int(y2 - int(height/4))\n",
        "  origin = (x1, y1)\n",
        "  end = (x2, y2)\n",
        "\n",
        "  # make array of zeros with (width x height) of the image\n",
        "  mat_arr = np.zeros((width, height), dtype=int)\n",
        "  # assign 1 to only pixle mentioned in mat file\n",
        "  for i in range(len(mat['image_info']['location'])):\n",
        "    mat_arr[mat['image_info']['location'][i][0] - 1 ,mat['image_info']['location'][i][1] - 1 ] = 1\n",
        "  \n",
        "  # crop the image\n",
        "  crop_img = img[origin[1]:end[1], origin[0]:end[0]]\n",
        "  \n",
        "  # crop the mat array\n",
        "  crop_mat = mat_arr[origin[0]:end[0], origin[1]:end[1]]\n",
        "\n",
        "  # only return the pixels with value = 1\n",
        "  final_arr = np.where(crop_mat == 1)\n",
        "  \n",
        "  # if there is no person in the image, then return false \n",
        "  if len(final_arr[0]) < 1:\n",
        "    return False\n",
        "\n",
        "  # copy the dataframe and drop the portion where it cropped\n",
        "  new_mat = mat['image_info']['location'][0:len(final_arr[0])]\n",
        "\n",
        "  # mapping between the mat array and the original dimensions\n",
        "  for i in range(len(new_mat)):\n",
        "    new_mat[i][0] = final_arr[0][i]\n",
        "    new_mat[i][1] = final_arr[1][i]\n",
        "    \n",
        "  mat_file = mat_file.replace('.mat', '')\n",
        "\n",
        "  # save the mat file\n",
        "  df_dict ={\"image_info\":np.array({\"location\": new_mat ,\"number\":len(new_mat)})}\n",
        "  scipy.io.savemat(root+'ground_truth/'+mat_file+'_c'+str(n)+'.mat', df_dict, oned_as='column', appendmat = False)\n",
        "\n",
        "  # save the new image\n",
        "  path = root+img_file\n",
        "  full_path, ext = os.path.splitext(path)\n",
        "  img_file = full_path.replace(root, '')\n",
        "  cv2.imwrite(root+'images/'+img_file+'_c'+str(n)+ext, crop_img)\n",
        "  \n",
        "  return True"
      ],
      "execution_count": null,
      "outputs": []
    },
    {
      "cell_type": "markdown",
      "metadata": {
        "id": "mJ2Nr-lghsHS"
      },
      "source": [
        "#4.Function to mirror an image and its mat file"
      ]
    },
    {
      "cell_type": "code",
      "metadata": {
        "id": "sl_lo4eRYss9"
      },
      "source": [
        "def mirror_img(root, img_file, mat_file):\n",
        "  \n",
        "  # load mat file \n",
        "  mat = mat4py.loadmat(root+'ground_truth/'+mat_file)\n",
        "\n",
        "  # load image\n",
        "  img = cv2.imread(root+'images/'+img_file)\n",
        "  \n",
        "  # width and height of the image\n",
        "  height, width, channels = img.shape\n",
        "\n",
        "  # flip the image horizontally\n",
        "  flipHorizontal = cv2.flip(img, 1)\n",
        "\n",
        "  # get the x's, y's coordinates\n",
        "  new_mat = mat['image_info']['location']\n",
        "\n",
        "  # loop over coordinates and change the x coordinate\n",
        "  for i in range(len(new_mat)):\n",
        "    new_mat[i][0] = width - new_mat[i][0] - 1\n",
        "  \n",
        "\n",
        "  mat_file = mat_file.replace('.mat', '')\n",
        "\n",
        "  # save the mat file\n",
        "  df_dict ={\"image_info\":np.array({\"location\": new_mat ,\"number\":len(new_mat)})}\n",
        "  scipy.io.savemat(root+'ground_truth/'+mat_file+'_mirror'+'.mat', df_dict, oned_as='column', appendmat = False)\n",
        "\n",
        "\n",
        "  # if the extension of the image file is .jfif convert it to jpg\n",
        "  if img_file.endswith('.jfif'):\n",
        "    img_file = img_file.replace('jfif', 'jpg')\n",
        "  \n",
        "\n",
        "  # save the new image\n",
        "  path = root+img_file\n",
        "  full_path, ext = os.path.splitext(path)\n",
        "  img_file = full_path.replace(root, '')\n",
        "  cv2.imwrite(root+'images/'+img_file+'_mirror'+ext, flipHorizontal)\n"
      ],
      "execution_count": null,
      "outputs": []
    },
    {
      "cell_type": "markdown",
      "metadata": {
        "id": "VORg7xNEOcvx"
      },
      "source": [
        "#5. Function to applay augmentation"
      ]
    },
    {
      "cell_type": "code",
      "metadata": {
        "id": "TwQ3cO5-iBN8"
      },
      "source": [
        "def data_augmentation(folder_path, crop_func = None, n_crop = 1, mirror_func = None):\n",
        "\n",
        "  # root path\n",
        "  root_path = folder_path\n",
        "\n",
        "  # create an empty list to save all mat files names\n",
        "  mat_files = []\n",
        "\n",
        "  # create an empty list to save all images files names\n",
        "  img_files = []\n",
        "\n",
        "  # loop over root path, and get directories and files\n",
        "  for root, dirs, files in os.walk(root_path):\n",
        "    # if the folder has at least one file\n",
        "    if len(files) != 0:\n",
        "      # if files are images\n",
        "      if files[0].endswith('.jpg') or files[0].endswith('.jpeg') or files[0].endswith('.JPG') or files[0].endswith('.png') or files[0].endswith('.jfif'):\n",
        "        img_files = files\n",
        "    # if files are mat files\n",
        "    if len(files) != 0 and files[0].endswith('.mat'):\n",
        "      mat_files = files\n",
        "    \n",
        "    # if both mat list and image list not empty\n",
        "    if len(img_files) != 0 and len(mat_files) != 0:\n",
        "      # sort lists\n",
        "      img_files.sort()\n",
        "      mat_files.sort()\n",
        "\n",
        "      # get the root without last directory\n",
        "      root = root.replace('ground_truth', '')\n",
        "      root = root.replace('images', '')\n",
        "      print(root)\n",
        "      print(len(img_files))\n",
        "      print(img_files)\n",
        "      print(len(mat_files))\n",
        "      print(mat_files)\n",
        "\n",
        "      mirror_images = []\n",
        "      mirror_mat = []\n",
        "\n",
        "      # if there is mirror function\n",
        "      if mirror_func != None:\n",
        "        for i in range(len(img_files)):\n",
        "          mirror_func(root, img_files[i], mat_files[i])\n",
        "          mirror_images.append(img_files[i].replace('.', '_mirror.'))\n",
        "          mirror_mat.append(mat_files[i].replace('.', '_mirror.'))\n",
        "\n",
        "        img_files += mirror_images\n",
        "        mat_files += mirror_mat\n",
        "\n",
        "      # if there is a crop function\n",
        "      if crop_func != None:  \n",
        "        done = False\n",
        "        c = n_crop\n",
        "        for i in range(len(img_files)):\n",
        "          while done == False or c > 0:\n",
        "            done = crop_func(root, img_files[i], mat_files[i], c)\n",
        "            if done:\n",
        "              c-=1\n",
        "          c = n_crop \n",
        "      img_files = []\n",
        "      mat_files = []\n"
      ],
      "execution_count": null,
      "outputs": []
    },
    {
      "cell_type": "markdown",
      "metadata": {
        "id": "wsOhkfMLxvsw"
      },
      "source": [
        "#6. Run the augmentation function"
      ]
    },
    {
      "cell_type": "code",
      "metadata": {
        "id": "rbcWDr11lXWB"
      },
      "source": [
        "root = 'CVHajjDataSet/'\n",
        "\n",
        "data_augmentation(root, crop_func= crop_img, n_crop = 9, mirror_func= mirror_img)"
      ],
      "execution_count": null,
      "outputs": []
    }
  ]
}