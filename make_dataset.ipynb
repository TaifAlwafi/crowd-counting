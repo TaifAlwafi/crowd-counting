{
  "nbformat": 4,
  "nbformat_minor": 0,
  "metadata": {
    "kernelspec": {
      "display_name": "Python 2",
      "language": "python",
      "name": "python2"
    },
    "language_info": {
      "codemirror_mode": {
        "name": "ipython",
        "version": 2
      },
      "file_extension": ".py",
      "mimetype": "text/x-python",
      "name": "python",
      "nbconvert_exporter": "python",
      "pygments_lexer": "ipython2",
      "version": "2.7.13"
    },
    "colab": {
      "name": "make_dataset.ipynb",
      "provenance": []
    }
  },
  "cells": [
    {
      "cell_type": "code",
      "metadata": {
        "id": "2Ajq6QKUHJ_p"
      },
      "source": [
        "import os\n",
        "import cv2\n",
        "import glob\n",
        "import h5py\n",
        "from scipy.io import loadmat\n",
        "import numpy as np\n",
        "from tqdm import tqdm\n",
        "import matplotlib.pyplot as plt\n",
        "%matplotlib inline"
      ],
      "execution_count": null,
      "outputs": []
    },
    {
      "cell_type": "code",
      "metadata": {
        "collapsed": true,
        "id": "iE3olzEoHJ_t"
      },
      "source": [
        "def gen_density_map_gaussian(im, points, sigma=4):\n",
        "    \"\"\"\n",
        "    func: generate the density map\n",
        "    \"\"\"\n",
        "    density_map = np.zeros(im.shape[:2], dtype=np.float32)\n",
        "    h, w = density_map.shape[:2]\n",
        "    num_gt = np.squeeze(points).shape[0]\n",
        "    if num_gt == 0:\n",
        "        return density_map\n",
        "    if sigma == 4:\n",
        "        # Adaptive sigma in CSRNet.\n",
        "        leafsize = 2048\n",
        "        tree = scipy.spatial.KDTree(points.copy(), leafsize=leafsize)\n",
        "        distances, _ = tree.query(points, k=4)\n",
        "    for idx_p, p in enumerate(points):\n",
        "        p = np.round(p).astype(int)\n",
        "        p[0], p[1] = min(h-1, p[1]), min(w-1, p[0])\n",
        "        gaussian_radius = sigma * 2 - 1\n",
        "        if sigma == 4:\n",
        "            # Adaptive sigma in CSRNet.\n",
        "            sigma = max(int(np.sum(distances[idx_p][1:4]) * 0.1), 1)\n",
        "            gaussian_radius = sigma * 3\n",
        "        gaussian_map = np.multiply(\n",
        "            cv2.getGaussianKernel(int(gaussian_radius*2+1), sigma),\n",
        "            cv2.getGaussianKernel(int(gaussian_radius*2+1), sigma).T\n",
        "        )\n",
        "        x_left, x_right, y_up, y_down = 0, gaussian_map.shape[1], 0, gaussian_map.shape[0]\n",
        "        # cut the gaussian kernel\n",
        "        if p[1] < gaussian_radius:\n",
        "            x_left = gaussian_radius - p[1]\n",
        "        if p[0] < gaussian_radius:\n",
        "            y_up = gaussian_radius - p[0]\n",
        "        if p[1] + gaussian_radius >= w:\n",
        "            x_right = gaussian_map.shape[1] - (gaussian_radius + p[1] - w) - 1\n",
        "        if p[0] + gaussian_radius >= h:\n",
        "            y_down = gaussian_map.shape[0] - (gaussian_radius + p[0] - h) - 1\n",
        "        gaussian_map = gaussian_map[y_up:y_down, x_left:x_right]\n",
        "        if np.sum(gaussian_map):\n",
        "            gaussian_map = gaussian_map / np.sum(gaussian_map)\n",
        "        density_map[\n",
        "            max(0, p[0]-gaussian_radius):min(h, p[0]+gaussian_radius+1),\n",
        "            max(0, p[1]-gaussian_radius):min(w, p[1]+gaussian_radius+1)\n",
        "        ] += gaussian_map\n",
        "    density_map = density_map / (np.sum(density_map / num_gt))\n",
        "    return density_map"
      ],
      "execution_count": null,
      "outputs": []
    },
    {
      "cell_type": "code",
      "metadata": {
        "collapsed": true,
        "id": "Shy-LwmZHJ_u"
      },
      "source": [
        "#set the root to the dataset you want to use\n",
        "root = 'CVHajjDataSet/'"
      ],
      "execution_count": null,
      "outputs": []
    },
    {
      "cell_type": "code",
      "metadata": {
        "collapsed": true,
        "id": "aM8gSxdpHJ_v"
      },
      "source": [
        "Aljoharah_st_train = os.path.join(root,'Aljoharah_st/train','images')\n",
        "Aljoharah_st_val = os.path.join(root,'Aljoharah_st/val','images')\n",
        "Aljoharah_st_test = os.path.join(root,'Aljoharah_st/test','images')\n",
        "\n",
        "Jamarat_exit_train = os.path.join(root,'Jamarat_exit/train','images')\n",
        "Jamarat_exit_val = os.path.join(root,'Jamarat_exit/val','images')\n",
        "Jamarat_exit_test = os.path.join(root,'Jamarat_exit/test','images')\n",
        "\n",
        "Jamarat_exit_with_kheif_train = os.path.join(root,'Jamarat_exit_with_kheif/train','images')\n",
        "Jamarat_exit_with_kheif_val = os.path.join(root,'Jamarat_exit_with_kheif/val','images')\n",
        "Jamarat_exit_with_kheif_test = os.path.join(root,'Jamarat_exit_with_kheif/test','images')\n",
        "\n",
        "Tawaf_tabaeud_train = os.path.join(root,'Tawaf_tabaeud/train','images')\n",
        "Tawaf_tabaeud_val = os.path.join(root,'Tawaf_tabaeud/val','images')\n",
        "Tawaf_tabaeud_test = os.path.join(root,'Tawaf_tabaeud/test','images')\n",
        "\n",
        "path_sets = [Aljoharah_st_train, Aljoharah_st_val, Aljoharah_st_test, Jamarat_exit_train, Jamarat_exit_val, Jamarat_exit_test, Jamarat_exit_with_kheif_train, Jamarat_exit_with_kheif_val, Jamarat_exit_with_kheif_test, Tawaf_tabaeud_train, Tawaf_tabaeud_val, Tawaf_tabaeud_test]\n",
        "\n"
      ],
      "execution_count": null,
      "outputs": []
    },
    {
      "cell_type": "code",
      "metadata": {
        "collapsed": true,
        "id": "Soybc17tHJ_w"
      },
      "source": [
        "img_paths = []\n",
        "for path in path_sets:\n",
        "    for img_path in glob.glob(os.path.join(path, '*.jpg')):\n",
        "        img_paths.append(img_path)"
      ],
      "execution_count": null,
      "outputs": []
    },
    {
      "cell_type": "code",
      "metadata": {
        "collapsed": true,
        "scrolled": true,
        "colab": {
          "base_uri": "https://localhost:8080/"
        },
        "id": "02Tj3ybcHJ_w",
        "outputId": "8e3287dd-0f5b-4329-9139-704ac2fd5abc"
      },
      "source": [
        "for img_path in tqdm(img_paths):\n",
        "    img_ori = cv2.cvtColor(cv2.imread(img_path), cv2.COLOR_BGR2RGB)\n",
        "    pts = loadmat(img_path.replace('.jpg', '.mat').replace('images', 'ground_truth').replace('IMG_', 'GT_IMG_'))\n",
        "    img = cv2.imread(img_path)\n",
        "    sigma = 15\n",
        "    k = np.zeros((img.shape[0], img.shape[1]))\n",
        "    gt = pts[\"image_info\"][0, 0][0, 0][0]\n",
        "    for i in range(len(gt)):\n",
        "        if int(gt[i][1]) < img.shape[0] and int(gt[i][0]) < img.shape[1]:\n",
        "            k[int(gt[i][1]), int(gt[i][0])] = 1\n",
        "\n",
        "    DM = gen_density_map_gaussian(k, gt, sigma=sigma)\n",
        "\n",
        "    file_path = img_path.replace('.jpg', '.h5').replace('images', 'ground_truth')\n",
        "    with h5py.File(file_path, 'w') as hf:\n",
        "        hf['density'] = DM"
      ],
      "execution_count": null,
      "outputs": [
        {
          "output_type": "stream",
          "text": [
            "100%|██████████| 1512/1512 [01:39<00:00, 15.23it/s]\n"
          ],
          "name": "stderr"
        }
      ]
    },
    {
      "cell_type": "code",
      "metadata": {
        "collapsed": true,
        "id": "EIU5BKcOHJ_x"
      },
      "source": [
        "#now see a sample from ShanghaiA\n",
        "plt.imshow(Image.open(img_paths[5]))"
      ],
      "execution_count": null,
      "outputs": []
    },
    {
      "cell_type": "code",
      "metadata": {
        "collapsed": true,
        "id": "6V4wOj7GHJ_y"
      },
      "source": [
        "gt_file = h5py.File(img_paths[5].replace('.jpg','.h5').replace('images','ground_truth'),'r')\n",
        "groundtruth = np.asarray(gt_file['density'])\n",
        "plt.imshow(groundtruth,cmap=CM.jet)"
      ],
      "execution_count": null,
      "outputs": []
    },
    {
      "cell_type": "code",
      "metadata": {
        "collapsed": true,
        "id": "Y6mDkdiLHJ_z"
      },
      "source": [
        "np.sum(groundtruth)# don't mind this slight variation"
      ],
      "execution_count": null,
      "outputs": []
    }
  ]
}