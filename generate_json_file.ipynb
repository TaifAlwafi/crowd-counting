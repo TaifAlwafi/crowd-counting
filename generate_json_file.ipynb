{
  "nbformat": 4,
  "nbformat_minor": 5,
  "metadata": {
    "kernelspec": {
      "display_name": "Python 3",
      "language": "python",
      "name": "python3"
    },
    "language_info": {
      "codemirror_mode": {
        "name": "ipython",
        "version": 3
      },
      "file_extension": ".py",
      "mimetype": "text/x-python",
      "name": "python",
      "nbconvert_exporter": "python",
      "pygments_lexer": "ipython3",
      "version": "3.8.8"
    },
    "colab": {
      "name": "generate_json_file.ipynb",
      "provenance": []
    }
  },
  "cells": [
    {
      "cell_type": "code",
      "metadata": {
        "id": "5a791250"
      },
      "source": [
        "import json\n",
        "import os\n",
        "import glob\n"
      ],
      "id": "5a791250",
      "execution_count": null,
      "outputs": []
    },
    {
      "cell_type": "code",
      "metadata": {
        "id": "Qx5y8tXPGzLj"
      },
      "source": [
        "root = 'CVHajjDataSet/'"
      ],
      "id": "Qx5y8tXPGzLj",
      "execution_count": null,
      "outputs": []
    },
    {
      "cell_type": "code",
      "metadata": {
        "id": "229ed482"
      },
      "source": [
        "Aljoharah_st_train = os.path.join(root,'Aljoharah_st/train','images')\n",
        "Aljoharah_st_val = os.path.join(root,'Aljoharah_st/val','images')\n",
        "Aljoharah_st_test = os.path.join(root,'Aljoharah_st/test','images')\n",
        "\n",
        "Jamarat_exit_train = os.path.join(root,'Jamarat_exit/train','images')\n",
        "Jamarat_exit_val = os.path.join(root,'Jamarat_exit/val','images')\n",
        "Jamarat_exit_test = os.path.join(root,'Jamarat_exit/test','images')\n",
        "\n",
        "Jamarat_exit_with_kheif_train = os.path.join(root,'Jamarat_exit_with_kheif/train','images')\n",
        "Jamarat_exit_with_kheif_val = os.path.join(root,'Jamarat_exit_with_kheif/val','images')\n",
        "Jamarat_exit_with_kheif_test = os.path.join(root,'Jamarat_exit_with_kheif/test','images')\n",
        "\n",
        "Tawaf_tabaeud_train = os.path.join(root,'Tawaf_tabaeud/train','images')\n",
        "Tawaf_tabaeud_val = os.path.join(root,'Tawaf_tabaeud/val','images')\n",
        "Tawaf_tabaeud_test = os.path.join(root,'Tawaf_tabaeud/test','images')\n",
        "\n",
        "train_path_sets = [Aljoharah_st_train, Jamarat_exit_train, Jamarat_exit_with_kheif_train, Tawaf_tabaeud_train]\n",
        "val_path_sets = [Aljoharah_st_val, Jamarat_exit_val, Jamarat_exit_with_kheif_val, Tawaf_tabaeud_val]\n",
        "test_path_sets = [Aljoharah_st_test, Jamarat_exit_test, Jamarat_exit_with_kheif_test, Tawaf_tabaeud_test]\n",
        "\n",
        "# In[4]:\n",
        "\n",
        "\n",
        "\n",
        "train_img_paths = []\n",
        "val_img_paths = []\n",
        "test_img_paths = []\n"
      ],
      "id": "229ed482",
      "execution_count": null,
      "outputs": []
    },
    {
      "cell_type": "code",
      "metadata": {
        "id": "2c4f3041"
      },
      "source": [
        "for path in train_path_sets:\n",
        "    for img_path in glob.glob(os.path.join(path, '*.jpg')):\n",
        "        train_img_paths.append(img_path)\n",
        "    for img_path in glob.glob(os.path.join(path, '*.jpeg')):\n",
        "        train_img_paths.append(img_path)\n",
        "    for img_path in glob.glob(os.path.join(path, '*.JPG')):\n",
        "        train_img_paths.append(img_path)\n",
        "    for img_path in glob.glob(os.path.join(path, '*.jfif')):\n",
        "        train_img_paths.append(img_path)"
      ],
      "id": "2c4f3041",
      "execution_count": null,
      "outputs": []
    },
    {
      "cell_type": "code",
      "metadata": {
        "id": "5f04e2eb"
      },
      "source": [
        "for path in val_path_sets:\n",
        "    for img_path in glob.glob(os.path.join(path, '*.jpg')):\n",
        "        val_img_paths.append(img_path)\n",
        "        \n",
        "    for img_path in glob.glob(os.path.join(path, '*.jpeg')):\n",
        "        val_img_paths.append(img_path)\n",
        "    for img_path in glob.glob(os.path.join(path, '*.JPG')):\n",
        "        val_img_paths.append(img_path)\n",
        "    for img_path in glob.glob(os.path.join(path, '*.jfif')):\n",
        "        val_img_paths.append(img_path)"
      ],
      "id": "5f04e2eb",
      "execution_count": null,
      "outputs": []
    },
    {
      "cell_type": "code",
      "metadata": {
        "id": "6510b132"
      },
      "source": [
        "for path in test_path_sets:\n",
        "    for img_path in glob.glob(os.path.join(path, '*.jpg')):\n",
        "        test_img_paths.append(img_path) \n",
        "    for img_path in glob.glob(os.path.join(path, '*.jpeg')):\n",
        "        test_img_paths.append(img_path)\n",
        "    for img_path in glob.glob(os.path.join(path, '*.JPG')):\n",
        "        test_img_paths.append(img_path)\n",
        "    for img_path in glob.glob(os.path.join(path, '*.jfif')):\n",
        "        test_img_paths.append(img_path)"
      ],
      "id": "6510b132",
      "execution_count": null,
      "outputs": []
    },
    {
      "cell_type": "code",
      "metadata": {
        "id": "33e97441"
      },
      "source": [
        "with open('train.json', 'w') as f:\n",
        "    json.dump(train_img_paths, f)"
      ],
      "id": "33e97441",
      "execution_count": null,
      "outputs": []
    },
    {
      "cell_type": "code",
      "metadata": {
        "id": "f9e0189a"
      },
      "source": [
        "with open('val.json', 'w') as f:\n",
        "    json.dump(val_img_paths, f)"
      ],
      "id": "f9e0189a",
      "execution_count": null,
      "outputs": []
    },
    {
      "cell_type": "code",
      "metadata": {
        "id": "a6fb23b8"
      },
      "source": [
        "with open('test.json', 'w') as f:\n",
        "    json.dump(test_img_paths, f)"
      ],
      "id": "a6fb23b8",
      "execution_count": null,
      "outputs": []
    }
  ]
}